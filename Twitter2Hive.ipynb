{
 "cells": [
  {
   "cell_type": "code",
   "execution_count": 1,
   "metadata": {},
   "outputs": [],
   "source": [
    "import json\n",
    "import tempfile\n",
    "import requests\n",
    "import pathlib\n",
    "from datetime import datetime as dt\n",
    "from uuid import uuid4\n",
    "from requests_oauthlib import OAuth1Session"
   ]
  },
  {
   "cell_type": "code",
   "execution_count": 2,
   "metadata": {},
   "outputs": [],
   "source": [
    "consumer_key = '7GKwhJwazdDrgaXSzZvMrFGtT'\n",
    "consumer_secret_key = 'ceLNls49QUtprrLCTDsjaXRLQJ4hGhKcIQKf4p7sfiXVcljZJM'\n",
    "\n",
    "access_token = '551693427-9YxBcOd49wE6nKhNCeVX0RKURlc0rSPEMov9FoPR'\n",
    "access_token_secret = 'UtKnwyytjObFs3RRXhVrIwruljYUB6xbCkzJf4nbzMVZf'\n",
    "\n",
    "OUT_PATH = \"/home/twitter22\"\n",
    "QUERY = \"bolivia\"\n",
    "STOP_AFTER = 50"
   ]
  },
  {
   "cell_type": "code",
   "execution_count": 3,
   "metadata": {},
   "outputs": [],
   "source": [
    "pathlib.Path(OUT_PATH).mkdir(parents=True, exist_ok=True)\n",
    "query_data = {\n",
    "    \"track\": f\"#{QUERY}\".replace(\"#\", \"\").lower(),\n",
    "    \"language\":\"en\",\n",
    "}"
   ]
  },
  {
   "cell_type": "code",
   "execution_count": 4,
   "metadata": {},
   "outputs": [],
   "source": [
    "twitter =  OAuth1Session(\n",
    "    client_key=consumer_key,\n",
    "    client_secret=consumer_secret_key,\n",
    "    resource_owner_key=access_token,\n",
    "    resource_owner_secret=access_token_secret,\n",
    ")"
   ]
  },
  {
   "cell_type": "code",
   "execution_count": 5,
   "metadata": {},
   "outputs": [],
   "source": [
    "url = \"https://stream.twitter.com/1.1/statuses/filter.jason\"\n",
    "query_url = f\"{url}?{'&'.join([f'{k}={v}' for k,v in query_data.items()])}\""
   ]
  },
  {
   "cell_type": "code",
   "execution_count": 6,
   "metadata": {},
   "outputs": [
    {
     "name": "stdout",
     "output_type": "stream",
     "text": [
      "STREAMING 50 TWEETS\n"
     ]
    }
   ],
   "source": [
    "print(f\"STREAMING {STOP_AFTER} TWEETS\")\n",
    "with twitter.get(query_url, stream=True) as response:\n",
    "    for i, raw_tweet in enumerate(response.iter_lines()):\n",
    "        if i == STOP_AFTER:\n",
    "            break\n",
    "        try:\n",
    "            tweet = json.load(raw_tweet)\n",
    "            print(f\"{i+1}/{STOP_AFTER}: {tweet['user']['screen_name']} @ {tweet['created_at']}: {tweet['text']}\\n\")\n",
    "            \n",
    "        except (json.JSONDecodeError, KeyError) as err:\n",
    "            print(f\"{i+1}/{STOP_AFTER}: ERROR===>0of, encountered a mangled line of data here..\\n\")\n",
    "            continue\n",
    "            \n",
    "        with pathlib.Path(OUT_PATH) / f\"{dt.now().timestamp()}_{uuid4()}.json\" as F:\n",
    "            F.write_bytes(raw_tweet)"
   ]
  },
  {
   "cell_type": "code",
   "execution_count": null,
   "metadata": {},
   "outputs": [],
   "source": []
  }
 ],
 "metadata": {
  "kernelspec": {
   "display_name": "Python 3",
   "language": "python",
   "name": "python3"
  },
  "language_info": {
   "codemirror_mode": {
    "name": "ipython",
    "version": 3
   },
   "file_extension": ".py",
   "mimetype": "text/x-python",
   "name": "python",
   "nbconvert_exporter": "python",
   "pygments_lexer": "ipython3",
   "version": "3.8.3"
  },
  "toc": {
   "base_numbering": 1,
   "nav_menu": {},
   "number_sections": true,
   "sideBar": true,
   "skip_h1_title": false,
   "title_cell": "Table of Contents",
   "title_sidebar": "Contents",
   "toc_cell": false,
   "toc_position": {},
   "toc_section_display": true,
   "toc_window_display": false
  },
  "varInspector": {
   "cols": {
    "lenName": 16,
    "lenType": 16,
    "lenVar": 40
   },
   "kernels_config": {
    "python": {
     "delete_cmd_postfix": "",
     "delete_cmd_prefix": "del ",
     "library": "var_list.py",
     "varRefreshCmd": "print(var_dic_list())"
    },
    "r": {
     "delete_cmd_postfix": ") ",
     "delete_cmd_prefix": "rm(",
     "library": "var_list.r",
     "varRefreshCmd": "cat(var_dic_list()) "
    }
   },
   "types_to_exclude": [
    "module",
    "function",
    "builtin_function_or_method",
    "instance",
    "_Feature"
   ],
   "window_display": false
  }
 },
 "nbformat": 4,
 "nbformat_minor": 4
}
